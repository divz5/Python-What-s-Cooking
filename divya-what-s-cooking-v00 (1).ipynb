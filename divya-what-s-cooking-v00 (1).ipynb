{
 "cells": [
  {
   "cell_type": "markdown",
   "metadata": {
    "papermill": {
     "duration": 0.029582,
     "end_time": "2021-03-09T00:41:26.525886",
     "exception": false,
     "start_time": "2021-03-09T00:41:26.496304",
     "status": "completed"
    },
    "tags": []
   },
   "source": [
    "## Import Packages"
   ]
  },
  {
   "cell_type": "code",
   "execution_count": 1,
   "metadata": {
    "execution": {
     "iopub.execute_input": "2021-03-09T00:41:26.586445Z",
     "iopub.status.busy": "2021-03-09T00:41:26.585413Z",
     "iopub.status.idle": "2021-03-09T00:41:28.072613Z",
     "shell.execute_reply": "2021-03-09T00:41:28.071287Z"
    },
    "papermill": {
     "duration": 1.518627,
     "end_time": "2021-03-09T00:41:28.072904",
     "exception": false,
     "start_time": "2021-03-09T00:41:26.554277",
     "status": "completed"
    },
    "tags": []
   },
   "outputs": [],
   "source": [
    "import pandas as pd\n",
    "import numpy as np\n",
    "import matplotlib.pyplot as plt\n",
    "\n",
    "from sklearn.linear_model import LogisticRegression\n",
    "from sklearn.tree import DecisionTreeClassifier\n",
    "from sklearn.ensemble import RandomForestClassifier\n",
    "\n",
    "from sklearn.preprocessing import MinMaxScaler\n",
    "\n",
    "from sklearn.model_selection import cross_val_score, GridSearchCV\n",
    "\n",
    "from sklearn.metrics import confusion_matrix, classification_report"
   ]
  },
  {
   "cell_type": "markdown",
   "metadata": {
    "papermill": {
     "duration": 0.027908,
     "end_time": "2021-03-09T00:41:28.131219",
     "exception": false,
     "start_time": "2021-03-09T00:41:28.103311",
     "status": "completed"
    },
    "tags": []
   },
   "source": [
    "## Load Data"
   ]
  },
  {
   "cell_type": "code",
   "execution_count": 2,
   "metadata": {
    "execution": {
     "iopub.execute_input": "2021-03-09T00:41:28.194513Z",
     "iopub.status.busy": "2021-03-09T00:41:28.193805Z",
     "iopub.status.idle": "2021-03-09T00:41:29.138311Z",
     "shell.execute_reply": "2021-03-09T00:41:29.137603Z"
    },
    "papermill": {
     "duration": 0.978737,
     "end_time": "2021-03-09T00:41:29.138460",
     "exception": false,
     "start_time": "2021-03-09T00:41:28.159723",
     "status": "completed"
    },
    "tags": []
   },
   "outputs": [],
   "source": [
    "train = pd.read_json('../input/whats-cooking-kernels-only/train.json')\n",
    "test  = pd.read_json('../input/whats-cooking-kernels-only/test.json')"
   ]
  },
  {
   "cell_type": "code",
   "execution_count": 3,
   "metadata": {
    "execution": {
     "iopub.execute_input": "2021-03-09T00:41:29.204229Z",
     "iopub.status.busy": "2021-03-09T00:41:29.203327Z",
     "iopub.status.idle": "2021-03-09T00:41:29.206771Z",
     "shell.execute_reply": "2021-03-09T00:41:29.207295Z"
    },
    "papermill": {
     "duration": 0.040607,
     "end_time": "2021-03-09T00:41:29.207477",
     "exception": false,
     "start_time": "2021-03-09T00:41:29.166870",
     "status": "completed"
    },
    "tags": []
   },
   "outputs": [
    {
     "data": {
      "text/plain": [
       "(39774, 3)"
      ]
     },
     "execution_count": 3,
     "metadata": {},
     "output_type": "execute_result"
    }
   ],
   "source": [
    "train.shape"
   ]
  },
  {
   "cell_type": "code",
   "execution_count": 4,
   "metadata": {
    "execution": {
     "iopub.execute_input": "2021-03-09T00:41:29.269429Z",
     "iopub.status.busy": "2021-03-09T00:41:29.268762Z",
     "iopub.status.idle": "2021-03-09T00:41:29.274364Z",
     "shell.execute_reply": "2021-03-09T00:41:29.274929Z"
    },
    "papermill": {
     "duration": 0.038229,
     "end_time": "2021-03-09T00:41:29.275104",
     "exception": false,
     "start_time": "2021-03-09T00:41:29.236875",
     "status": "completed"
    },
    "tags": []
   },
   "outputs": [
    {
     "data": {
      "text/plain": [
       "(9944, 2)"
      ]
     },
     "execution_count": 4,
     "metadata": {},
     "output_type": "execute_result"
    }
   ],
   "source": [
    "test.shape"
   ]
  },
  {
   "cell_type": "code",
   "execution_count": 5,
   "metadata": {
    "execution": {
     "iopub.execute_input": "2021-03-09T00:41:29.337925Z",
     "iopub.status.busy": "2021-03-09T00:41:29.337053Z",
     "iopub.status.idle": "2021-03-09T00:41:29.359818Z",
     "shell.execute_reply": "2021-03-09T00:41:29.360526Z"
    },
    "papermill": {
     "duration": 0.056375,
     "end_time": "2021-03-09T00:41:29.360743",
     "exception": false,
     "start_time": "2021-03-09T00:41:29.304368",
     "status": "completed"
    },
    "tags": []
   },
   "outputs": [
    {
     "data": {
      "text/html": [
       "<div>\n",
       "<style scoped>\n",
       "    .dataframe tbody tr th:only-of-type {\n",
       "        vertical-align: middle;\n",
       "    }\n",
       "\n",
       "    .dataframe tbody tr th {\n",
       "        vertical-align: top;\n",
       "    }\n",
       "\n",
       "    .dataframe thead th {\n",
       "        text-align: right;\n",
       "    }\n",
       "</style>\n",
       "<table border=\"1\" class=\"dataframe\">\n",
       "  <thead>\n",
       "    <tr style=\"text-align: right;\">\n",
       "      <th></th>\n",
       "      <th>id</th>\n",
       "      <th>cuisine</th>\n",
       "      <th>ingredients</th>\n",
       "    </tr>\n",
       "  </thead>\n",
       "  <tbody>\n",
       "    <tr>\n",
       "      <th>0</th>\n",
       "      <td>10259</td>\n",
       "      <td>greek</td>\n",
       "      <td>[romaine lettuce, black olives, grape tomatoes...</td>\n",
       "    </tr>\n",
       "    <tr>\n",
       "      <th>1</th>\n",
       "      <td>25693</td>\n",
       "      <td>southern_us</td>\n",
       "      <td>[plain flour, ground pepper, salt, tomatoes, g...</td>\n",
       "    </tr>\n",
       "    <tr>\n",
       "      <th>2</th>\n",
       "      <td>20130</td>\n",
       "      <td>filipino</td>\n",
       "      <td>[eggs, pepper, salt, mayonaise, cooking oil, g...</td>\n",
       "    </tr>\n",
       "    <tr>\n",
       "      <th>3</th>\n",
       "      <td>22213</td>\n",
       "      <td>indian</td>\n",
       "      <td>[water, vegetable oil, wheat, salt]</td>\n",
       "    </tr>\n",
       "    <tr>\n",
       "      <th>4</th>\n",
       "      <td>13162</td>\n",
       "      <td>indian</td>\n",
       "      <td>[black pepper, shallots, cornflour, cayenne pe...</td>\n",
       "    </tr>\n",
       "  </tbody>\n",
       "</table>\n",
       "</div>"
      ],
      "text/plain": [
       "      id      cuisine                                        ingredients\n",
       "0  10259        greek  [romaine lettuce, black olives, grape tomatoes...\n",
       "1  25693  southern_us  [plain flour, ground pepper, salt, tomatoes, g...\n",
       "2  20130     filipino  [eggs, pepper, salt, mayonaise, cooking oil, g...\n",
       "3  22213       indian                [water, vegetable oil, wheat, salt]\n",
       "4  13162       indian  [black pepper, shallots, cornflour, cayenne pe..."
      ]
     },
     "execution_count": 5,
     "metadata": {},
     "output_type": "execute_result"
    }
   ],
   "source": [
    "train.head()"
   ]
  },
  {
   "cell_type": "code",
   "execution_count": 6,
   "metadata": {
    "execution": {
     "iopub.execute_input": "2021-03-09T00:41:29.433837Z",
     "iopub.status.busy": "2021-03-09T00:41:29.433136Z",
     "iopub.status.idle": "2021-03-09T00:41:29.437318Z",
     "shell.execute_reply": "2021-03-09T00:41:29.437833Z"
    },
    "papermill": {
     "duration": 0.047352,
     "end_time": "2021-03-09T00:41:29.438014",
     "exception": false,
     "start_time": "2021-03-09T00:41:29.390662",
     "status": "completed"
    },
    "tags": []
   },
   "outputs": [
    {
     "data": {
      "text/html": [
       "<div>\n",
       "<style scoped>\n",
       "    .dataframe tbody tr th:only-of-type {\n",
       "        vertical-align: middle;\n",
       "    }\n",
       "\n",
       "    .dataframe tbody tr th {\n",
       "        vertical-align: top;\n",
       "    }\n",
       "\n",
       "    .dataframe thead th {\n",
       "        text-align: right;\n",
       "    }\n",
       "</style>\n",
       "<table border=\"1\" class=\"dataframe\">\n",
       "  <thead>\n",
       "    <tr style=\"text-align: right;\">\n",
       "      <th></th>\n",
       "      <th>id</th>\n",
       "      <th>ingredients</th>\n",
       "    </tr>\n",
       "  </thead>\n",
       "  <tbody>\n",
       "    <tr>\n",
       "      <th>0</th>\n",
       "      <td>18009</td>\n",
       "      <td>[baking powder, eggs, all-purpose flour, raisi...</td>\n",
       "    </tr>\n",
       "    <tr>\n",
       "      <th>1</th>\n",
       "      <td>28583</td>\n",
       "      <td>[sugar, egg yolks, corn starch, cream of tarta...</td>\n",
       "    </tr>\n",
       "    <tr>\n",
       "      <th>2</th>\n",
       "      <td>41580</td>\n",
       "      <td>[sausage links, fennel bulb, fronds, olive oil...</td>\n",
       "    </tr>\n",
       "    <tr>\n",
       "      <th>3</th>\n",
       "      <td>29752</td>\n",
       "      <td>[meat cuts, file powder, smoked sausage, okra,...</td>\n",
       "    </tr>\n",
       "    <tr>\n",
       "      <th>4</th>\n",
       "      <td>35687</td>\n",
       "      <td>[ground black pepper, salt, sausage casings, l...</td>\n",
       "    </tr>\n",
       "  </tbody>\n",
       "</table>\n",
       "</div>"
      ],
      "text/plain": [
       "      id                                        ingredients\n",
       "0  18009  [baking powder, eggs, all-purpose flour, raisi...\n",
       "1  28583  [sugar, egg yolks, corn starch, cream of tarta...\n",
       "2  41580  [sausage links, fennel bulb, fronds, olive oil...\n",
       "3  29752  [meat cuts, file powder, smoked sausage, okra,...\n",
       "4  35687  [ground black pepper, salt, sausage casings, l..."
      ]
     },
     "execution_count": 6,
     "metadata": {},
     "output_type": "execute_result"
    }
   ],
   "source": [
    "test.head()"
   ]
  },
  {
   "cell_type": "code",
   "execution_count": 7,
   "metadata": {
    "execution": {
     "iopub.execute_input": "2021-03-09T00:41:29.503105Z",
     "iopub.status.busy": "2021-03-09T00:41:29.502279Z",
     "iopub.status.idle": "2021-03-09T00:41:29.521845Z",
     "shell.execute_reply": "2021-03-09T00:41:29.522393Z"
    },
    "papermill": {
     "duration": 0.053947,
     "end_time": "2021-03-09T00:41:29.522575",
     "exception": false,
     "start_time": "2021-03-09T00:41:29.468628",
     "status": "completed"
    },
    "tags": []
   },
   "outputs": [
    {
     "data": {
      "text/plain": [
       "id             0\n",
       "cuisine        0\n",
       "ingredients    0\n",
       "dtype: int64"
      ]
     },
     "execution_count": 7,
     "metadata": {},
     "output_type": "execute_result"
    }
   ],
   "source": [
    "train.isna().sum()"
   ]
  },
  {
   "cell_type": "markdown",
   "metadata": {
    "papermill": {
     "duration": 0.032538,
     "end_time": "2021-03-09T00:41:29.586664",
     "exception": false,
     "start_time": "2021-03-09T00:41:29.554126",
     "status": "completed"
    },
    "tags": []
   },
   "source": [
    "## Preprocessing"
   ]
  },
  {
   "cell_type": "code",
   "execution_count": 8,
   "metadata": {
    "execution": {
     "iopub.execute_input": "2021-03-09T00:41:29.652766Z",
     "iopub.status.busy": "2021-03-09T00:41:29.651980Z",
     "iopub.status.idle": "2021-03-09T00:41:29.676386Z",
     "shell.execute_reply": "2021-03-09T00:41:29.675772Z"
    },
    "papermill": {
     "duration": 0.058553,
     "end_time": "2021-03-09T00:41:29.676552",
     "exception": false,
     "start_time": "2021-03-09T00:41:29.617999",
     "status": "completed"
    },
    "tags": []
   },
   "outputs": [
    {
     "name": "stdout",
     "output_type": "stream",
     "text": [
      "['greek', 'southern_us', 'filipino', 'indian', 'jamaican', 'spanish', 'italian', 'mexican', 'chinese', 'british', 'thai', 'vietnamese', 'cajun_creole', 'brazilian', 'french', 'japanese', 'irish', 'korean', 'moroccan', 'russian']\n"
     ]
    }
   ],
   "source": [
    "uniq_cuis = train.cuisine.unique()\n",
    "print(list(uniq_cuis))"
   ]
  },
  {
   "cell_type": "code",
   "execution_count": 9,
   "metadata": {
    "execution": {
     "iopub.execute_input": "2021-03-09T00:41:29.746381Z",
     "iopub.status.busy": "2021-03-09T00:41:29.745394Z",
     "iopub.status.idle": "2021-03-09T00:41:29.750777Z",
     "shell.execute_reply": "2021-03-09T00:41:29.750224Z"
    },
    "papermill": {
     "duration": 0.042664,
     "end_time": "2021-03-09T00:41:29.750932",
     "exception": false,
     "start_time": "2021-03-09T00:41:29.708268",
     "status": "completed"
    },
    "tags": []
   },
   "outputs": [
    {
     "data": {
      "text/plain": [
       "20"
      ]
     },
     "execution_count": 9,
     "metadata": {},
     "output_type": "execute_result"
    }
   ],
   "source": [
    "len(uniq_cuis)"
   ]
  },
  {
   "cell_type": "code",
   "execution_count": 10,
   "metadata": {
    "execution": {
     "iopub.execute_input": "2021-03-09T00:41:29.840602Z",
     "iopub.status.busy": "2021-03-09T00:41:29.839906Z",
     "iopub.status.idle": "2021-03-09T00:41:29.947507Z",
     "shell.execute_reply": "2021-03-09T00:41:29.946828Z"
    },
    "papermill": {
     "duration": 0.164092,
     "end_time": "2021-03-09T00:41:29.947659",
     "exception": false,
     "start_time": "2021-03-09T00:41:29.783567",
     "status": "completed"
    },
    "tags": []
   },
   "outputs": [
    {
     "name": "stdout",
     "output_type": "stream",
     "text": [
      "['romaine lettuce', 'black olives', 'grape tomatoes', 'garlic', 'pepper', 'purple onion', 'seasoning', 'garbanzo beans', 'feta cheese crumbles', 'plain flour', 'ground pepper', 'salt', 'tomatoes', 'ground black pepper', 'thyme', 'eggs', 'green tomatoes', 'yellow corn meal', 'milk', 'vegetable oil']\n"
     ]
    }
   ],
   "source": [
    "uniq_ing = train.ingredients.explode().unique()\n",
    "print(list(uniq_ing[:20]))"
   ]
  },
  {
   "cell_type": "code",
   "execution_count": 11,
   "metadata": {
    "execution": {
     "iopub.execute_input": "2021-03-09T00:41:30.019306Z",
     "iopub.status.busy": "2021-03-09T00:41:30.018573Z",
     "iopub.status.idle": "2021-03-09T00:41:30.022428Z",
     "shell.execute_reply": "2021-03-09T00:41:30.023003Z"
    },
    "papermill": {
     "duration": 0.043016,
     "end_time": "2021-03-09T00:41:30.023194",
     "exception": false,
     "start_time": "2021-03-09T00:41:29.980178",
     "status": "completed"
    },
    "tags": []
   },
   "outputs": [
    {
     "data": {
      "text/plain": [
       "6714"
      ]
     },
     "execution_count": 11,
     "metadata": {},
     "output_type": "execute_result"
    }
   ],
   "source": [
    "len(uniq_ing)"
   ]
  },
  {
   "cell_type": "code",
   "execution_count": 12,
   "metadata": {
    "execution": {
     "iopub.execute_input": "2021-03-09T00:41:30.094766Z",
     "iopub.status.busy": "2021-03-09T00:41:30.094049Z",
     "iopub.status.idle": "2021-03-09T00:46:08.633929Z",
     "shell.execute_reply": "2021-03-09T00:46:08.634523Z"
    },
    "papermill": {
     "duration": 278.577909,
     "end_time": "2021-03-09T00:46:08.634864",
     "exception": false,
     "start_time": "2021-03-09T00:41:30.056955",
     "status": "completed"
    },
    "tags": []
   },
   "outputs": [
    {
     "name": "stdout",
     "output_type": "stream",
     "text": [
      "CPU times: user 4min 9s, sys: 28.5 s, total: 4min 38s\n",
      "Wall time: 4min 38s\n"
     ]
    }
   ],
   "source": [
    "%%time\n",
    "\n",
    "for u in uniq_ing:\n",
    "        train[u] = train.ingredients.map(lambda x : 1 if u in x else 0)"
   ]
  },
  {
   "cell_type": "code",
   "execution_count": 13,
   "metadata": {
    "execution": {
     "iopub.execute_input": "2021-03-09T00:46:08.713533Z",
     "iopub.status.busy": "2021-03-09T00:46:08.712344Z",
     "iopub.status.idle": "2021-03-09T00:46:08.743319Z",
     "shell.execute_reply": "2021-03-09T00:46:08.744128Z"
    },
    "papermill": {
     "duration": 0.075232,
     "end_time": "2021-03-09T00:46:08.744334",
     "exception": false,
     "start_time": "2021-03-09T00:46:08.669102",
     "status": "completed"
    },
    "tags": []
   },
   "outputs": [
    {
     "data": {
      "text/html": [
       "<div>\n",
       "<style scoped>\n",
       "    .dataframe tbody tr th:only-of-type {\n",
       "        vertical-align: middle;\n",
       "    }\n",
       "\n",
       "    .dataframe tbody tr th {\n",
       "        vertical-align: top;\n",
       "    }\n",
       "\n",
       "    .dataframe thead th {\n",
       "        text-align: right;\n",
       "    }\n",
       "</style>\n",
       "<table border=\"1\" class=\"dataframe\">\n",
       "  <thead>\n",
       "    <tr style=\"text-align: right;\">\n",
       "      <th></th>\n",
       "      <th>id</th>\n",
       "      <th>cuisine</th>\n",
       "      <th>ingredients</th>\n",
       "      <th>romaine lettuce</th>\n",
       "      <th>black olives</th>\n",
       "      <th>grape tomatoes</th>\n",
       "      <th>garlic</th>\n",
       "      <th>pepper</th>\n",
       "      <th>purple onion</th>\n",
       "      <th>seasoning</th>\n",
       "      <th>...</th>\n",
       "      <th>Oscar Mayer Cotto Salami</th>\n",
       "      <th>Challenge Butter</th>\n",
       "      <th>orange glaze</th>\n",
       "      <th>cholesterol free egg substitute</th>\n",
       "      <th>ciabatta loaf</th>\n",
       "      <th>Lipton® Iced Tea Brew Family Size Tea Bags</th>\n",
       "      <th>Hidden Valley® Greek Yogurt Original Ranch® Dip Mix</th>\n",
       "      <th>lop chong</th>\n",
       "      <th>tomato garlic pasta sauce</th>\n",
       "      <th>crushed cheese crackers</th>\n",
       "    </tr>\n",
       "  </thead>\n",
       "  <tbody>\n",
       "    <tr>\n",
       "      <th>0</th>\n",
       "      <td>10259</td>\n",
       "      <td>greek</td>\n",
       "      <td>[romaine lettuce, black olives, grape tomatoes...</td>\n",
       "      <td>1</td>\n",
       "      <td>1</td>\n",
       "      <td>1</td>\n",
       "      <td>1</td>\n",
       "      <td>1</td>\n",
       "      <td>1</td>\n",
       "      <td>1</td>\n",
       "      <td>...</td>\n",
       "      <td>0</td>\n",
       "      <td>0</td>\n",
       "      <td>0</td>\n",
       "      <td>0</td>\n",
       "      <td>0</td>\n",
       "      <td>0</td>\n",
       "      <td>0</td>\n",
       "      <td>0</td>\n",
       "      <td>0</td>\n",
       "      <td>0</td>\n",
       "    </tr>\n",
       "    <tr>\n",
       "      <th>1</th>\n",
       "      <td>25693</td>\n",
       "      <td>southern_us</td>\n",
       "      <td>[plain flour, ground pepper, salt, tomatoes, g...</td>\n",
       "      <td>0</td>\n",
       "      <td>0</td>\n",
       "      <td>0</td>\n",
       "      <td>0</td>\n",
       "      <td>0</td>\n",
       "      <td>0</td>\n",
       "      <td>0</td>\n",
       "      <td>...</td>\n",
       "      <td>0</td>\n",
       "      <td>0</td>\n",
       "      <td>0</td>\n",
       "      <td>0</td>\n",
       "      <td>0</td>\n",
       "      <td>0</td>\n",
       "      <td>0</td>\n",
       "      <td>0</td>\n",
       "      <td>0</td>\n",
       "      <td>0</td>\n",
       "    </tr>\n",
       "    <tr>\n",
       "      <th>2</th>\n",
       "      <td>20130</td>\n",
       "      <td>filipino</td>\n",
       "      <td>[eggs, pepper, salt, mayonaise, cooking oil, g...</td>\n",
       "      <td>0</td>\n",
       "      <td>0</td>\n",
       "      <td>0</td>\n",
       "      <td>0</td>\n",
       "      <td>1</td>\n",
       "      <td>0</td>\n",
       "      <td>0</td>\n",
       "      <td>...</td>\n",
       "      <td>0</td>\n",
       "      <td>0</td>\n",
       "      <td>0</td>\n",
       "      <td>0</td>\n",
       "      <td>0</td>\n",
       "      <td>0</td>\n",
       "      <td>0</td>\n",
       "      <td>0</td>\n",
       "      <td>0</td>\n",
       "      <td>0</td>\n",
       "    </tr>\n",
       "    <tr>\n",
       "      <th>3</th>\n",
       "      <td>22213</td>\n",
       "      <td>indian</td>\n",
       "      <td>[water, vegetable oil, wheat, salt]</td>\n",
       "      <td>0</td>\n",
       "      <td>0</td>\n",
       "      <td>0</td>\n",
       "      <td>0</td>\n",
       "      <td>0</td>\n",
       "      <td>0</td>\n",
       "      <td>0</td>\n",
       "      <td>...</td>\n",
       "      <td>0</td>\n",
       "      <td>0</td>\n",
       "      <td>0</td>\n",
       "      <td>0</td>\n",
       "      <td>0</td>\n",
       "      <td>0</td>\n",
       "      <td>0</td>\n",
       "      <td>0</td>\n",
       "      <td>0</td>\n",
       "      <td>0</td>\n",
       "    </tr>\n",
       "    <tr>\n",
       "      <th>4</th>\n",
       "      <td>13162</td>\n",
       "      <td>indian</td>\n",
       "      <td>[black pepper, shallots, cornflour, cayenne pe...</td>\n",
       "      <td>0</td>\n",
       "      <td>0</td>\n",
       "      <td>0</td>\n",
       "      <td>0</td>\n",
       "      <td>0</td>\n",
       "      <td>0</td>\n",
       "      <td>0</td>\n",
       "      <td>...</td>\n",
       "      <td>0</td>\n",
       "      <td>0</td>\n",
       "      <td>0</td>\n",
       "      <td>0</td>\n",
       "      <td>0</td>\n",
       "      <td>0</td>\n",
       "      <td>0</td>\n",
       "      <td>0</td>\n",
       "      <td>0</td>\n",
       "      <td>0</td>\n",
       "    </tr>\n",
       "  </tbody>\n",
       "</table>\n",
       "<p>5 rows × 6717 columns</p>\n",
       "</div>"
      ],
      "text/plain": [
       "      id      cuisine                                        ingredients  \\\n",
       "0  10259        greek  [romaine lettuce, black olives, grape tomatoes...   \n",
       "1  25693  southern_us  [plain flour, ground pepper, salt, tomatoes, g...   \n",
       "2  20130     filipino  [eggs, pepper, salt, mayonaise, cooking oil, g...   \n",
       "3  22213       indian                [water, vegetable oil, wheat, salt]   \n",
       "4  13162       indian  [black pepper, shallots, cornflour, cayenne pe...   \n",
       "\n",
       "   romaine lettuce  black olives  grape tomatoes  garlic  pepper  \\\n",
       "0                1             1               1       1       1   \n",
       "1                0             0               0       0       0   \n",
       "2                0             0               0       0       1   \n",
       "3                0             0               0       0       0   \n",
       "4                0             0               0       0       0   \n",
       "\n",
       "   purple onion  seasoning  ...  Oscar Mayer Cotto Salami  Challenge Butter  \\\n",
       "0             1          1  ...                         0                 0   \n",
       "1             0          0  ...                         0                 0   \n",
       "2             0          0  ...                         0                 0   \n",
       "3             0          0  ...                         0                 0   \n",
       "4             0          0  ...                         0                 0   \n",
       "\n",
       "   orange glaze  cholesterol free egg substitute  ciabatta loaf  \\\n",
       "0             0                                0              0   \n",
       "1             0                                0              0   \n",
       "2             0                                0              0   \n",
       "3             0                                0              0   \n",
       "4             0                                0              0   \n",
       "\n",
       "   Lipton® Iced Tea Brew Family Size Tea Bags  \\\n",
       "0                                           0   \n",
       "1                                           0   \n",
       "2                                           0   \n",
       "3                                           0   \n",
       "4                                           0   \n",
       "\n",
       "   Hidden Valley® Greek Yogurt Original Ranch® Dip Mix  lop chong  \\\n",
       "0                                                  0            0   \n",
       "1                                                  0            0   \n",
       "2                                                  0            0   \n",
       "3                                                  0            0   \n",
       "4                                                  0            0   \n",
       "\n",
       "   tomato garlic pasta sauce  crushed cheese crackers  \n",
       "0                          0                        0  \n",
       "1                          0                        0  \n",
       "2                          0                        0  \n",
       "3                          0                        0  \n",
       "4                          0                        0  \n",
       "\n",
       "[5 rows x 6717 columns]"
      ]
     },
     "execution_count": 13,
     "metadata": {},
     "output_type": "execute_result"
    }
   ],
   "source": [
    "train.head()"
   ]
  },
  {
   "cell_type": "code",
   "execution_count": 14,
   "metadata": {
    "execution": {
     "iopub.execute_input": "2021-03-09T00:46:08.833287Z",
     "iopub.status.busy": "2021-03-09T00:46:08.827410Z",
     "iopub.status.idle": "2021-03-09T00:47:55.997828Z",
     "shell.execute_reply": "2021-03-09T00:47:55.998419Z"
    },
    "papermill": {
     "duration": 107.219029,
     "end_time": "2021-03-09T00:47:55.998626",
     "exception": false,
     "start_time": "2021-03-09T00:46:08.779597",
     "status": "completed"
    },
    "tags": []
   },
   "outputs": [
    {
     "name": "stdout",
     "output_type": "stream",
     "text": [
      "CPU times: user 1min 40s, sys: 6.77 s, total: 1min 47s\n",
      "Wall time: 1min 47s\n"
     ]
    }
   ],
   "source": [
    "%%time\n",
    "\n",
    "for u in uniq_ing:\n",
    "        test[u] = test.ingredients.map(lambda x : 1 if u in x else 0)"
   ]
  },
  {
   "cell_type": "code",
   "execution_count": 15,
   "metadata": {
    "execution": {
     "iopub.execute_input": "2021-03-09T00:47:56.071650Z",
     "iopub.status.busy": "2021-03-09T00:47:56.070777Z",
     "iopub.status.idle": "2021-03-09T00:47:56.099146Z",
     "shell.execute_reply": "2021-03-09T00:47:56.099882Z"
    },
    "papermill": {
     "duration": 0.066842,
     "end_time": "2021-03-09T00:47:56.100095",
     "exception": false,
     "start_time": "2021-03-09T00:47:56.033253",
     "status": "completed"
    },
    "tags": []
   },
   "outputs": [
    {
     "data": {
      "text/html": [
       "<div>\n",
       "<style scoped>\n",
       "    .dataframe tbody tr th:only-of-type {\n",
       "        vertical-align: middle;\n",
       "    }\n",
       "\n",
       "    .dataframe tbody tr th {\n",
       "        vertical-align: top;\n",
       "    }\n",
       "\n",
       "    .dataframe thead th {\n",
       "        text-align: right;\n",
       "    }\n",
       "</style>\n",
       "<table border=\"1\" class=\"dataframe\">\n",
       "  <thead>\n",
       "    <tr style=\"text-align: right;\">\n",
       "      <th></th>\n",
       "      <th>id</th>\n",
       "      <th>ingredients</th>\n",
       "      <th>romaine lettuce</th>\n",
       "      <th>black olives</th>\n",
       "      <th>grape tomatoes</th>\n",
       "      <th>garlic</th>\n",
       "      <th>pepper</th>\n",
       "      <th>purple onion</th>\n",
       "      <th>seasoning</th>\n",
       "      <th>garbanzo beans</th>\n",
       "      <th>...</th>\n",
       "      <th>Oscar Mayer Cotto Salami</th>\n",
       "      <th>Challenge Butter</th>\n",
       "      <th>orange glaze</th>\n",
       "      <th>cholesterol free egg substitute</th>\n",
       "      <th>ciabatta loaf</th>\n",
       "      <th>Lipton® Iced Tea Brew Family Size Tea Bags</th>\n",
       "      <th>Hidden Valley® Greek Yogurt Original Ranch® Dip Mix</th>\n",
       "      <th>lop chong</th>\n",
       "      <th>tomato garlic pasta sauce</th>\n",
       "      <th>crushed cheese crackers</th>\n",
       "    </tr>\n",
       "  </thead>\n",
       "  <tbody>\n",
       "    <tr>\n",
       "      <th>0</th>\n",
       "      <td>18009</td>\n",
       "      <td>[baking powder, eggs, all-purpose flour, raisi...</td>\n",
       "      <td>0</td>\n",
       "      <td>0</td>\n",
       "      <td>0</td>\n",
       "      <td>0</td>\n",
       "      <td>0</td>\n",
       "      <td>0</td>\n",
       "      <td>0</td>\n",
       "      <td>0</td>\n",
       "      <td>...</td>\n",
       "      <td>0</td>\n",
       "      <td>0</td>\n",
       "      <td>0</td>\n",
       "      <td>0</td>\n",
       "      <td>0</td>\n",
       "      <td>0</td>\n",
       "      <td>0</td>\n",
       "      <td>0</td>\n",
       "      <td>0</td>\n",
       "      <td>0</td>\n",
       "    </tr>\n",
       "    <tr>\n",
       "      <th>1</th>\n",
       "      <td>28583</td>\n",
       "      <td>[sugar, egg yolks, corn starch, cream of tarta...</td>\n",
       "      <td>0</td>\n",
       "      <td>0</td>\n",
       "      <td>0</td>\n",
       "      <td>0</td>\n",
       "      <td>0</td>\n",
       "      <td>0</td>\n",
       "      <td>0</td>\n",
       "      <td>0</td>\n",
       "      <td>...</td>\n",
       "      <td>0</td>\n",
       "      <td>0</td>\n",
       "      <td>0</td>\n",
       "      <td>0</td>\n",
       "      <td>0</td>\n",
       "      <td>0</td>\n",
       "      <td>0</td>\n",
       "      <td>0</td>\n",
       "      <td>0</td>\n",
       "      <td>0</td>\n",
       "    </tr>\n",
       "    <tr>\n",
       "      <th>2</th>\n",
       "      <td>41580</td>\n",
       "      <td>[sausage links, fennel bulb, fronds, olive oil...</td>\n",
       "      <td>0</td>\n",
       "      <td>0</td>\n",
       "      <td>0</td>\n",
       "      <td>0</td>\n",
       "      <td>0</td>\n",
       "      <td>0</td>\n",
       "      <td>0</td>\n",
       "      <td>0</td>\n",
       "      <td>...</td>\n",
       "      <td>0</td>\n",
       "      <td>0</td>\n",
       "      <td>0</td>\n",
       "      <td>0</td>\n",
       "      <td>0</td>\n",
       "      <td>0</td>\n",
       "      <td>0</td>\n",
       "      <td>0</td>\n",
       "      <td>0</td>\n",
       "      <td>0</td>\n",
       "    </tr>\n",
       "    <tr>\n",
       "      <th>3</th>\n",
       "      <td>29752</td>\n",
       "      <td>[meat cuts, file powder, smoked sausage, okra,...</td>\n",
       "      <td>0</td>\n",
       "      <td>0</td>\n",
       "      <td>0</td>\n",
       "      <td>0</td>\n",
       "      <td>0</td>\n",
       "      <td>0</td>\n",
       "      <td>0</td>\n",
       "      <td>0</td>\n",
       "      <td>...</td>\n",
       "      <td>0</td>\n",
       "      <td>0</td>\n",
       "      <td>0</td>\n",
       "      <td>0</td>\n",
       "      <td>0</td>\n",
       "      <td>0</td>\n",
       "      <td>0</td>\n",
       "      <td>0</td>\n",
       "      <td>0</td>\n",
       "      <td>0</td>\n",
       "    </tr>\n",
       "    <tr>\n",
       "      <th>4</th>\n",
       "      <td>35687</td>\n",
       "      <td>[ground black pepper, salt, sausage casings, l...</td>\n",
       "      <td>0</td>\n",
       "      <td>0</td>\n",
       "      <td>0</td>\n",
       "      <td>0</td>\n",
       "      <td>0</td>\n",
       "      <td>0</td>\n",
       "      <td>0</td>\n",
       "      <td>0</td>\n",
       "      <td>...</td>\n",
       "      <td>0</td>\n",
       "      <td>0</td>\n",
       "      <td>0</td>\n",
       "      <td>0</td>\n",
       "      <td>0</td>\n",
       "      <td>0</td>\n",
       "      <td>0</td>\n",
       "      <td>0</td>\n",
       "      <td>0</td>\n",
       "      <td>0</td>\n",
       "    </tr>\n",
       "  </tbody>\n",
       "</table>\n",
       "<p>5 rows × 6716 columns</p>\n",
       "</div>"
      ],
      "text/plain": [
       "      id                                        ingredients  romaine lettuce  \\\n",
       "0  18009  [baking powder, eggs, all-purpose flour, raisi...                0   \n",
       "1  28583  [sugar, egg yolks, corn starch, cream of tarta...                0   \n",
       "2  41580  [sausage links, fennel bulb, fronds, olive oil...                0   \n",
       "3  29752  [meat cuts, file powder, smoked sausage, okra,...                0   \n",
       "4  35687  [ground black pepper, salt, sausage casings, l...                0   \n",
       "\n",
       "   black olives  grape tomatoes  garlic  pepper  purple onion  seasoning  \\\n",
       "0             0               0       0       0             0          0   \n",
       "1             0               0       0       0             0          0   \n",
       "2             0               0       0       0             0          0   \n",
       "3             0               0       0       0             0          0   \n",
       "4             0               0       0       0             0          0   \n",
       "\n",
       "   garbanzo beans  ...  Oscar Mayer Cotto Salami  Challenge Butter  \\\n",
       "0               0  ...                         0                 0   \n",
       "1               0  ...                         0                 0   \n",
       "2               0  ...                         0                 0   \n",
       "3               0  ...                         0                 0   \n",
       "4               0  ...                         0                 0   \n",
       "\n",
       "   orange glaze  cholesterol free egg substitute  ciabatta loaf  \\\n",
       "0             0                                0              0   \n",
       "1             0                                0              0   \n",
       "2             0                                0              0   \n",
       "3             0                                0              0   \n",
       "4             0                                0              0   \n",
       "\n",
       "   Lipton® Iced Tea Brew Family Size Tea Bags  \\\n",
       "0                                           0   \n",
       "1                                           0   \n",
       "2                                           0   \n",
       "3                                           0   \n",
       "4                                           0   \n",
       "\n",
       "   Hidden Valley® Greek Yogurt Original Ranch® Dip Mix  lop chong  \\\n",
       "0                                                  0            0   \n",
       "1                                                  0            0   \n",
       "2                                                  0            0   \n",
       "3                                                  0            0   \n",
       "4                                                  0            0   \n",
       "\n",
       "   tomato garlic pasta sauce  crushed cheese crackers  \n",
       "0                          0                        0  \n",
       "1                          0                        0  \n",
       "2                          0                        0  \n",
       "3                          0                        0  \n",
       "4                          0                        0  \n",
       "\n",
       "[5 rows x 6716 columns]"
      ]
     },
     "execution_count": 15,
     "metadata": {},
     "output_type": "execute_result"
    }
   ],
   "source": [
    "test.head()"
   ]
  },
  {
   "cell_type": "code",
   "execution_count": 16,
   "metadata": {
    "execution": {
     "iopub.execute_input": "2021-03-09T00:47:56.177789Z",
     "iopub.status.busy": "2021-03-09T00:47:56.176196Z",
     "iopub.status.idle": "2021-03-09T00:47:56.186672Z",
     "shell.execute_reply": "2021-03-09T00:47:56.188076Z"
    },
    "papermill": {
     "duration": 0.052365,
     "end_time": "2021-03-09T00:47:56.188373",
     "exception": false,
     "start_time": "2021-03-09T00:47:56.136008",
     "status": "completed"
    },
    "tags": []
   },
   "outputs": [],
   "source": [
    "ingredient_lookup = {}\n",
    "\n",
    "for ing in range(len(uniq_ing)):\n",
    "    ingredient_lookup[uniq_ing[ing]] = ing"
   ]
  },
  {
   "cell_type": "code",
   "execution_count": 17,
   "metadata": {
    "execution": {
     "iopub.execute_input": "2021-03-09T00:47:56.264794Z",
     "iopub.status.busy": "2021-03-09T00:47:56.264137Z",
     "iopub.status.idle": "2021-03-09T00:48:37.117623Z",
     "shell.execute_reply": "2021-03-09T00:48:37.118177Z"
    },
    "papermill": {
     "duration": 40.892892,
     "end_time": "2021-03-09T00:48:37.118358",
     "exception": false,
     "start_time": "2021-03-09T00:47:56.225466",
     "status": "completed"
    },
    "tags": []
   },
   "outputs": [
    {
     "name": "stdout",
     "output_type": "stream",
     "text": [
      "CPU times: user 37 s, sys: 4.98 s, total: 42 s\n",
      "Wall time: 40.8 s\n"
     ]
    }
   ],
   "source": [
    "%%time\n",
    "\n",
    "rows = []\n",
    "cols = []\n",
    "vals = []\n",
    "\n",
    "for i, recipe in train.iterrows():\n",
    "    for ingr in recipe['ingredients']:\n",
    "        c = ingredient_lookup[ingr]\n",
    "        rows.append(i)\n",
    "        cols.append(c)\n",
    "        vals.append(1)"
   ]
  },
  {
   "cell_type": "code",
   "execution_count": 18,
   "metadata": {
    "execution": {
     "iopub.execute_input": "2021-03-09T00:48:37.387014Z",
     "iopub.status.busy": "2021-03-09T00:48:37.385991Z",
     "iopub.status.idle": "2021-03-09T00:48:37.745306Z",
     "shell.execute_reply": "2021-03-09T00:48:37.743773Z"
    },
    "papermill": {
     "duration": 0.591234,
     "end_time": "2021-03-09T00:48:37.745518",
     "exception": false,
     "start_time": "2021-03-09T00:48:37.154284",
     "status": "completed"
    },
    "tags": []
   },
   "outputs": [
    {
     "name": "stdout",
     "output_type": "stream",
     "text": [
      "(39774, 6714)\n"
     ]
    }
   ],
   "source": [
    "from scipy import sparse\n",
    "\n",
    "X_train = sparse.coo_matrix((vals, (rows, cols)))\n",
    "y_train = train.iloc[:,1].copy()\n",
    "print(X_train.shape)"
   ]
  },
  {
   "cell_type": "code",
   "execution_count": 19,
   "metadata": {
    "execution": {
     "iopub.execute_input": "2021-03-09T00:48:37.830203Z",
     "iopub.status.busy": "2021-03-09T00:48:37.828642Z",
     "iopub.status.idle": "2021-03-09T00:48:47.656830Z",
     "shell.execute_reply": "2021-03-09T00:48:47.657313Z"
    },
    "papermill": {
     "duration": 9.87445,
     "end_time": "2021-03-09T00:48:47.657514",
     "exception": false,
     "start_time": "2021-03-09T00:48:37.783064",
     "status": "completed"
    },
    "tags": []
   },
   "outputs": [
    {
     "name": "stdout",
     "output_type": "stream",
     "text": [
      "CPU times: user 8.86 s, sys: 1.17 s, total: 10 s\n",
      "Wall time: 9.83 s\n"
     ]
    }
   ],
   "source": [
    "%%time\n",
    "\n",
    "row = [0]\n",
    "col = [6713]\n",
    "val = [0]\n",
    "\n",
    "new_ingr = []\n",
    "\n",
    "for i, recipe in test.iterrows():\n",
    "    for ingr in recipe['ingredients']:\n",
    "        \n",
    "        if ingr in ingredient_lookup.keys():\n",
    "            c = ingredient_lookup[ingr]\n",
    "            row.append(i)\n",
    "            col.append(c)\n",
    "            val.append(1)\n",
    "        else:\n",
    "            new_ingr.append(ingr) "
   ]
  },
  {
   "cell_type": "code",
   "execution_count": 20,
   "metadata": {
    "execution": {
     "iopub.execute_input": "2021-03-09T00:48:47.781496Z",
     "iopub.status.busy": "2021-03-09T00:48:47.780481Z",
     "iopub.status.idle": "2021-03-09T00:48:47.874285Z",
     "shell.execute_reply": "2021-03-09T00:48:47.874794Z"
    },
    "papermill": {
     "duration": 0.180782,
     "end_time": "2021-03-09T00:48:47.874994",
     "exception": false,
     "start_time": "2021-03-09T00:48:47.694212",
     "status": "completed"
    },
    "tags": []
   },
   "outputs": [
    {
     "name": "stdout",
     "output_type": "stream",
     "text": [
      "(9944, 6714)\n"
     ]
    }
   ],
   "source": [
    "X_test = sparse.coo_matrix((val, (row, col)))\n",
    "y_test = test.iloc[:,1].copy()\n",
    "print(X_test.shape)"
   ]
  },
  {
   "cell_type": "code",
   "execution_count": 21,
   "metadata": {
    "execution": {
     "iopub.execute_input": "2021-03-09T00:48:47.956032Z",
     "iopub.status.busy": "2021-03-09T00:48:47.955297Z",
     "iopub.status.idle": "2021-03-09T00:48:47.960104Z",
     "shell.execute_reply": "2021-03-09T00:48:47.959544Z"
    },
    "papermill": {
     "duration": 0.047908,
     "end_time": "2021-03-09T00:48:47.960252",
     "exception": false,
     "start_time": "2021-03-09T00:48:47.912344",
     "status": "completed"
    },
    "tags": []
   },
   "outputs": [
    {
     "name": "stdout",
     "output_type": "stream",
     "text": [
      "469\n"
     ]
    }
   ],
   "source": [
    "print(len(new_ingr))"
   ]
  },
  {
   "cell_type": "markdown",
   "metadata": {
    "papermill": {
     "duration": 0.039767,
     "end_time": "2021-03-09T00:48:48.038447",
     "exception": false,
     "start_time": "2021-03-09T00:48:47.998680",
     "status": "completed"
    },
    "tags": []
   },
   "source": [
    "## Logistic Regression"
   ]
  },
  {
   "cell_type": "code",
   "execution_count": 22,
   "metadata": {
    "execution": {
     "iopub.execute_input": "2021-03-09T00:48:48.119274Z",
     "iopub.status.busy": "2021-03-09T00:48:48.118613Z",
     "iopub.status.idle": "2021-03-09T00:49:43.125031Z",
     "shell.execute_reply": "2021-03-09T00:49:43.125616Z"
    },
    "papermill": {
     "duration": 55.047654,
     "end_time": "2021-03-09T00:49:43.125859",
     "exception": false,
     "start_time": "2021-03-09T00:48:48.078205",
     "status": "completed"
    },
    "tags": []
   },
   "outputs": [
    {
     "name": "stdout",
     "output_type": "stream",
     "text": [
      "dict_keys(['mean_fit_time', 'std_fit_time', 'mean_score_time', 'std_score_time', 'param_C', 'params', 'split0_test_score', 'split1_test_score', 'split2_test_score', 'split3_test_score', 'split4_test_score', 'split5_test_score', 'split6_test_score', 'split7_test_score', 'split8_test_score', 'split9_test_score', 'mean_test_score', 'std_test_score', 'rank_test_score'])\n",
      "CPU times: user 10 s, sys: 160 ms, total: 10.2 s\n",
      "Wall time: 55 s\n"
     ]
    }
   ],
   "source": [
    "%%time\n",
    "\n",
    "lr_mod = LogisticRegression(solver='liblinear')\n",
    "\n",
    "lr_param_grid = {\n",
    "    #'penalty': ['l1', 'l2'],\n",
    "    'C': [1]\n",
    "}\n",
    "\n",
    "lr_grid = GridSearchCV(lr_mod, lr_param_grid,n_jobs=-1,scoring='accuracy', cv=10, refit='True')\n",
    "lr_grid.fit(X_train, y_train)\n",
    "\n",
    "lr_gs_res = lr_grid.cv_results_\n",
    "\n",
    "print(lr_gs_res.keys())"
   ]
  },
  {
   "cell_type": "code",
   "execution_count": 23,
   "metadata": {
    "execution": {
     "iopub.execute_input": "2021-03-09T00:49:43.220314Z",
     "iopub.status.busy": "2021-03-09T00:49:43.219512Z",
     "iopub.status.idle": "2021-03-09T00:49:43.231409Z",
     "shell.execute_reply": "2021-03-09T00:49:43.231966Z"
    },
    "papermill": {
     "duration": 0.068103,
     "end_time": "2021-03-09T00:49:43.232155",
     "exception": false,
     "start_time": "2021-03-09T00:49:43.164052",
     "status": "completed"
    },
    "tags": []
   },
   "outputs": [
    {
     "name": "stdout",
     "output_type": "stream",
     "text": [
      "mean_fit_time       [15.49980819]\n",
      "std_fit_time        [3.49691712]\n",
      "mean_score_time     [0.01370451]\n",
      "std_score_time      [0.00218353]\n",
      "param_C             [1]\n",
      "params              [{'C': 1}]\n",
      "split0_test_score   [0.78154852]\n",
      "split1_test_score   [0.7817999]\n",
      "split2_test_score   [0.79311212]\n",
      "split3_test_score   [0.78506787]\n",
      "split4_test_score   [0.7925572]\n",
      "split5_test_score   [0.77897913]\n",
      "split6_test_score   [0.76967563]\n",
      "split7_test_score   [0.78526528]\n",
      "split8_test_score   [0.7837566]\n",
      "split9_test_score   [0.79155142]\n",
      "mean_test_score     [0.78433137]\n",
      "std_test_score      [0.00675448]\n",
      "rank_test_score     [1]\n"
     ]
    }
   ],
   "source": [
    "for k, v in lr_gs_res.items():\n",
    "    print(f'{k:<20}{v}')"
   ]
  },
  {
   "cell_type": "code",
   "execution_count": 24,
   "metadata": {
    "execution": {
     "iopub.execute_input": "2021-03-09T00:49:43.338732Z",
     "iopub.status.busy": "2021-03-09T00:49:43.337248Z",
     "iopub.status.idle": "2021-03-09T00:49:43.341260Z",
     "shell.execute_reply": "2021-03-09T00:49:43.342051Z"
    },
    "papermill": {
     "duration": 0.058134,
     "end_time": "2021-03-09T00:49:43.342294",
     "exception": false,
     "start_time": "2021-03-09T00:49:43.284160",
     "status": "completed"
    },
    "tags": []
   },
   "outputs": [
    {
     "name": "stdout",
     "output_type": "stream",
     "text": [
      "[0.78433137]\n"
     ]
    }
   ],
   "source": [
    "print(lr_gs_res['mean_test_score'])"
   ]
  },
  {
   "cell_type": "code",
   "execution_count": 25,
   "metadata": {
    "execution": {
     "iopub.execute_input": "2021-03-09T00:49:43.430449Z",
     "iopub.status.busy": "2021-03-09T00:49:43.429715Z",
     "iopub.status.idle": "2021-03-09T00:49:43.581767Z",
     "shell.execute_reply": "2021-03-09T00:49:43.580868Z"
    },
    "papermill": {
     "duration": 0.198538,
     "end_time": "2021-03-09T00:49:43.581990",
     "exception": false,
     "start_time": "2021-03-09T00:49:43.383452",
     "status": "completed"
    },
    "tags": []
   },
   "outputs": [
    {
     "name": "stdout",
     "output_type": "stream",
     "text": [
      "Best Parameters: {'C': 1}\n",
      "Best CV Score:   0.7843313671509622 \n",
      "\n",
      "Training Acc:    0.8683562126011968\n",
      "\n",
      "{'C': 1}             0.78433137\n"
     ]
    }
   ],
   "source": [
    "grid = lr_grid\n",
    "lr_model = grid.best_estimator_\n",
    "\n",
    "print('Best Parameters:', grid.best_params_)\n",
    "print('Best CV Score:  ', grid.best_score_, '\\n')\n",
    "print('Training Acc:   ', grid.best_estimator_.score(X_train, y_train))\n",
    "print()\n",
    "\n",
    "cv_res = grid.cv_results_\n",
    "\n",
    "for params, score in zip(cv_res['params'], cv_res['mean_test_score']):\n",
    "    print(f'{str(params):<20} {score:.8f}')"
   ]
  },
  {
   "cell_type": "markdown",
   "metadata": {
    "papermill": {
     "duration": 0.041112,
     "end_time": "2021-03-09T00:49:43.663267",
     "exception": false,
     "start_time": "2021-03-09T00:49:43.622155",
     "status": "completed"
    },
    "tags": []
   },
   "source": [
    "* {'C': 0.001}         0.49429282\n",
    "* {'C': 0.1}           0.74827758\n",
    "* {'C': 0.01}          0.64479308\n",
    "* {'C': 100}           0.74629133   ,  **{'C': 0.1}  0.7482775835362029**\n",
    "\n",
    "\n",
    "* {'C': 1}             0.78433137\n",
    "* {'C': 10}            0.77432496\n",
    "* {'C': 20}            0.76688289\n",
    "* {'C': 50}            0.75649901  , **{'C': 1}     0.7843313671509622**\n",
    "\n",
    "\n",
    "* {'C': 5}             0.77985626\n",
    "* {'C': 7}             0.77721628\n",
    "* {'C': 3}             0.78309952 , **{'C': 3} 0.7830995165388515**\n"
   ]
  },
  {
   "cell_type": "markdown",
   "metadata": {
    "papermill": {
     "duration": 0.039397,
     "end_time": "2021-03-09T00:49:43.742270",
     "exception": false,
     "start_time": "2021-03-09T00:49:43.702873",
     "status": "completed"
    },
    "tags": []
   },
   "source": [
    "## Decision Trees: Hyper-Parameter Tuning"
   ]
  },
  {
   "cell_type": "code",
   "execution_count": 26,
   "metadata": {
    "execution": {
     "iopub.execute_input": "2021-03-09T00:49:43.900968Z",
     "iopub.status.busy": "2021-03-09T00:49:43.900229Z",
     "iopub.status.idle": "2021-03-09T00:49:57.519081Z",
     "shell.execute_reply": "2021-03-09T00:49:57.518488Z"
    },
    "papermill": {
     "duration": 13.737099,
     "end_time": "2021-03-09T00:49:57.519272",
     "exception": false,
     "start_time": "2021-03-09T00:49:43.782173",
     "status": "completed"
    },
    "tags": []
   },
   "outputs": [
    {
     "name": "stdout",
     "output_type": "stream",
     "text": [
      "CPU times: user 13.7 s, sys: 2.58 ms, total: 13.7 s\n",
      "Wall time: 13.7 s\n"
     ]
    }
   ],
   "source": [
    "%%time\n",
    "\n",
    "dtree = DecisionTreeClassifier(random_state=1)\n",
    "\n",
    "dt_param_grid = {\n",
    "    'max_depth': [30],\n",
    "    'min_samples_leaf': [1]\n",
    "}\n",
    "\n",
    "dt_grid_search = GridSearchCV(dtree, dt_param_grid, cv=5, refit='True')\n",
    "dt_grid_search.fit(X_train, y_train)\n",
    "\n",
    "dt_gs_res = dt_grid_search.cv_results_"
   ]
  },
  {
   "cell_type": "code",
   "execution_count": 27,
   "metadata": {
    "execution": {
     "iopub.execute_input": "2021-03-09T00:49:57.606292Z",
     "iopub.status.busy": "2021-03-09T00:49:57.605592Z",
     "iopub.status.idle": "2021-03-09T00:49:57.612683Z",
     "shell.execute_reply": "2021-03-09T00:49:57.612014Z"
    },
    "papermill": {
     "duration": 0.053035,
     "end_time": "2021-03-09T00:49:57.612847",
     "exception": false,
     "start_time": "2021-03-09T00:49:57.559812",
     "status": "completed"
    },
    "tags": []
   },
   "outputs": [
    {
     "name": "stdout",
     "output_type": "stream",
     "text": [
      "{'max_depth': 30, 'min_samples_leaf': 1} \t 0.512369866518781\n"
     ]
    }
   ],
   "source": [
    "for params, score in zip(dt_gs_res['params'], dt_gs_res['mean_test_score']):\n",
    "    print(params, '\\t', score)"
   ]
  },
  {
   "cell_type": "code",
   "execution_count": 28,
   "metadata": {
    "execution": {
     "iopub.execute_input": "2021-03-09T00:49:57.700557Z",
     "iopub.status.busy": "2021-03-09T00:49:57.699888Z",
     "iopub.status.idle": "2021-03-09T00:49:57.703408Z",
     "shell.execute_reply": "2021-03-09T00:49:57.703920Z"
    },
    "papermill": {
     "duration": 0.050093,
     "end_time": "2021-03-09T00:49:57.704096",
     "exception": false,
     "start_time": "2021-03-09T00:49:57.654003",
     "status": "completed"
    },
    "tags": []
   },
   "outputs": [
    {
     "name": "stdout",
     "output_type": "stream",
     "text": [
      "0.512369866518781\n",
      "{'max_depth': 30, 'min_samples_leaf': 1}\n"
     ]
    }
   ],
   "source": [
    "print(dt_grid_search.best_score_)\n",
    "print(dt_grid_search.best_params_)"
   ]
  },
  {
   "cell_type": "markdown",
   "metadata": {
    "papermill": {
     "duration": 0.0418,
     "end_time": "2021-03-09T00:49:57.787553",
     "exception": false,
     "start_time": "2021-03-09T00:49:57.745753",
     "status": "completed"
    },
    "tags": []
   },
   "source": [
    "* 'max_depth': [12, 14, 16, 18,20, 30 ]\n",
    "* 'min_samples_leaf': [2,32,54,104]   , 0.506084432374905 {'max_depth': 30, 'min_samples_leaf': 2}\n",
    "\n",
    "\n",
    "\n",
    "* 'max_depth': [12, 14, 16, 18,20, 30 ],\n",
    "*     'min_samples_leaf': [0.1,0.001,1,0.01] , **0.512369866518781** {'max_depth': 30, 'min_samples_leaf': 1}\n",
    "\n",
    "\n",
    "* 'max_depth': [12, 14, 16, 18,20, 30 ], \n",
    "*  'min_samples_leaf': [10,15,20,35] ,   0.5089756261925303 {'max_depth': 30, 'min_samples_leaf': 10}"
   ]
  },
  {
   "cell_type": "markdown",
   "metadata": {
    "papermill": {
     "duration": 0.040803,
     "end_time": "2021-03-09T00:49:57.870680",
     "exception": false,
     "start_time": "2021-03-09T00:49:57.829877",
     "status": "completed"
    },
    "tags": []
   },
   "source": [
    "## Random Forest Model"
   ]
  },
  {
   "cell_type": "code",
   "execution_count": 29,
   "metadata": {
    "execution": {
     "iopub.execute_input": "2021-03-09T00:49:58.034499Z",
     "iopub.status.busy": "2021-03-09T00:49:58.033589Z",
     "iopub.status.idle": "2021-03-09T00:51:31.325852Z",
     "shell.execute_reply": "2021-03-09T00:51:31.325091Z"
    },
    "papermill": {
     "duration": 93.414242,
     "end_time": "2021-03-09T00:51:31.326053",
     "exception": false,
     "start_time": "2021-03-09T00:49:57.911811",
     "status": "completed"
    },
    "tags": []
   },
   "outputs": [],
   "source": [
    "rfc = RandomForestClassifier(n_jobs=-1,n_estimators=50) \n",
    "\n",
    "rf_param_grid = { \n",
    "    'max_depth': [250],\n",
    "    'max_features': [85],\n",
    "    'min_samples_leaf': [1]\n",
    "}\n",
    "\n",
    "rf_cv = GridSearchCV(rfc, rf_param_grid, cv= 5, refit='True')\n",
    "rf_cv.fit(X_train, y_train)\n",
    "\n",
    "rf_res = rf_cv.cv_results_"
   ]
  },
  {
   "cell_type": "code",
   "execution_count": 30,
   "metadata": {
    "execution": {
     "iopub.execute_input": "2021-03-09T00:51:31.418734Z",
     "iopub.status.busy": "2021-03-09T00:51:31.417965Z",
     "iopub.status.idle": "2021-03-09T00:51:31.420641Z",
     "shell.execute_reply": "2021-03-09T00:51:31.421167Z"
    },
    "papermill": {
     "duration": 0.052629,
     "end_time": "2021-03-09T00:51:31.421351",
     "exception": false,
     "start_time": "2021-03-09T00:51:31.368722",
     "status": "completed"
    },
    "tags": []
   },
   "outputs": [
    {
     "name": "stdout",
     "output_type": "stream",
     "text": [
      "{'max_depth': 250, 'max_features': 85, 'min_samples_leaf': 1} \t 0.711997812057925\n"
     ]
    }
   ],
   "source": [
    "for params, score in zip(rf_res['params'], rf_res['mean_test_score']):\n",
    "    print(params, '\\t', score)"
   ]
  },
  {
   "cell_type": "code",
   "execution_count": 31,
   "metadata": {
    "execution": {
     "iopub.execute_input": "2021-03-09T00:51:31.511787Z",
     "iopub.status.busy": "2021-03-09T00:51:31.511019Z",
     "iopub.status.idle": "2021-03-09T00:51:31.516164Z",
     "shell.execute_reply": "2021-03-09T00:51:31.515618Z"
    },
    "papermill": {
     "duration": 0.052357,
     "end_time": "2021-03-09T00:51:31.516319",
     "exception": false,
     "start_time": "2021-03-09T00:51:31.463962",
     "status": "completed"
    },
    "tags": []
   },
   "outputs": [
    {
     "name": "stdout",
     "output_type": "stream",
     "text": [
      "0.711997812057925\n",
      "{'max_depth': 250, 'max_features': 85, 'min_samples_leaf': 1}\n"
     ]
    }
   ],
   "source": [
    "print(rf_cv.best_score_)\n",
    "print(rf_cv.best_params_)"
   ]
  },
  {
   "cell_type": "markdown",
   "metadata": {
    "papermill": {
     "duration": 0.042925,
     "end_time": "2021-03-09T00:51:31.601865",
     "exception": false,
     "start_time": "2021-03-09T00:51:31.558940",
     "status": "completed"
    },
    "tags": []
   },
   "source": [
    "* 'max_depth': [80, 90, 100, 110],\n",
    "*     'max_features': [2, 3],\n",
    "*     'min_samples_leaf': [3, 4, 5] , 0.20666754959812134 {'max_depth': 100, 'max_features': 3, 'min_samples_leaf': 3}\n",
    "\n",
    "\n",
    "\n",
    "* 'max_depth': [10,20,30,50],\n",
    "*     'max_features': [80,90],\n",
    "*     'min_samples_leaf': [1,3]  , 0.6396138386546022 {'max_depth': 50, 'max_features': 90, 'min_samples_leaf': 1}\n",
    "\n",
    "\n",
    "* 'max_depth': [100],\n",
    "*     'max_features': [80,90,100],\n",
    "*     'min_samples_leaf': [1]     ,0.6947000659195781 {'max_depth': 100, 'max_features': 90, 'min_samples_leaf': 1}\n",
    "\n",
    "\n",
    "* 'max_depth': [250],\n",
    "*     'max_features': [80,85,87],\n",
    "*     'min_samples_leaf': [1]      , 0.711469911766384 {'max_depth': 250, 'max_features': 85, 'min_samples_leaf': 1}"
   ]
  },
  {
   "cell_type": "markdown",
   "metadata": {
    "papermill": {
     "duration": 0.043145,
     "end_time": "2021-03-09T00:51:31.687484",
     "exception": false,
     "start_time": "2021-03-09T00:51:31.644339",
     "status": "completed"
    },
    "tags": []
   },
   "source": [
    "## Generate Test Predictions"
   ]
  },
  {
   "cell_type": "code",
   "execution_count": 32,
   "metadata": {
    "execution": {
     "iopub.execute_input": "2021-03-09T00:51:31.778972Z",
     "iopub.status.busy": "2021-03-09T00:51:31.777981Z",
     "iopub.status.idle": "2021-03-09T00:51:31.791133Z",
     "shell.execute_reply": "2021-03-09T00:51:31.790440Z"
    },
    "papermill": {
     "duration": 0.060999,
     "end_time": "2021-03-09T00:51:31.791283",
     "exception": false,
     "start_time": "2021-03-09T00:51:31.730284",
     "status": "completed"
    },
    "tags": []
   },
   "outputs": [
    {
     "name": "stdout",
     "output_type": "stream",
     "text": [
      "['british' 'southern_us' 'italian' 'cajun_creole' 'italian' 'southern_us'\n",
      " 'spanish' 'chinese' 'mexican' 'british' 'italian' 'greek' 'indian'\n",
      " 'italian' 'southern_us' 'french' 'mexican' 'southern_us' 'mexican'\n",
      " 'southern_us' 'japanese' 'indian' 'spanish' 'vietnamese' 'italian'\n",
      " 'southern_us' 'vietnamese' 'korean' 'italian' 'italian']\n"
     ]
    }
   ],
   "source": [
    "test_pred = lr_model.predict(X_test)\n",
    "print(test_pred[:30])"
   ]
  },
  {
   "cell_type": "code",
   "execution_count": 33,
   "metadata": {
    "execution": {
     "iopub.execute_input": "2021-03-09T00:51:31.891782Z",
     "iopub.status.busy": "2021-03-09T00:51:31.890614Z",
     "iopub.status.idle": "2021-03-09T00:51:31.895799Z",
     "shell.execute_reply": "2021-03-09T00:51:31.895109Z"
    },
    "papermill": {
     "duration": 0.060963,
     "end_time": "2021-03-09T00:51:31.895969",
     "exception": false,
     "start_time": "2021-03-09T00:51:31.835006",
     "status": "completed"
    },
    "tags": []
   },
   "outputs": [
    {
     "data": {
      "text/html": [
       "<div>\n",
       "<style scoped>\n",
       "    .dataframe tbody tr th:only-of-type {\n",
       "        vertical-align: middle;\n",
       "    }\n",
       "\n",
       "    .dataframe tbody tr th {\n",
       "        vertical-align: top;\n",
       "    }\n",
       "\n",
       "    .dataframe thead th {\n",
       "        text-align: right;\n",
       "    }\n",
       "</style>\n",
       "<table border=\"1\" class=\"dataframe\">\n",
       "  <thead>\n",
       "    <tr style=\"text-align: right;\">\n",
       "      <th></th>\n",
       "      <th>id</th>\n",
       "      <th>cuisine</th>\n",
       "    </tr>\n",
       "  </thead>\n",
       "  <tbody>\n",
       "    <tr>\n",
       "      <th>0</th>\n",
       "      <td>18009</td>\n",
       "      <td>british</td>\n",
       "    </tr>\n",
       "    <tr>\n",
       "      <th>1</th>\n",
       "      <td>28583</td>\n",
       "      <td>southern_us</td>\n",
       "    </tr>\n",
       "    <tr>\n",
       "      <th>2</th>\n",
       "      <td>41580</td>\n",
       "      <td>italian</td>\n",
       "    </tr>\n",
       "    <tr>\n",
       "      <th>3</th>\n",
       "      <td>29752</td>\n",
       "      <td>cajun_creole</td>\n",
       "    </tr>\n",
       "    <tr>\n",
       "      <th>4</th>\n",
       "      <td>35687</td>\n",
       "      <td>italian</td>\n",
       "    </tr>\n",
       "  </tbody>\n",
       "</table>\n",
       "</div>"
      ],
      "text/plain": [
       "      id       cuisine\n",
       "0  18009       british\n",
       "1  28583   southern_us\n",
       "2  41580       italian\n",
       "3  29752  cajun_creole\n",
       "4  35687       italian"
      ]
     },
     "execution_count": 33,
     "metadata": {},
     "output_type": "execute_result"
    }
   ],
   "source": [
    "submission = pd.DataFrame({\n",
    "    'id' : test.id,\n",
    "    'cuisine' : test_pred\n",
    "})\n",
    "submission.head()"
   ]
  },
  {
   "cell_type": "code",
   "execution_count": 34,
   "metadata": {
    "execution": {
     "iopub.execute_input": "2021-03-09T00:51:31.991456Z",
     "iopub.status.busy": "2021-03-09T00:51:31.990732Z",
     "iopub.status.idle": "2021-03-09T00:51:32.022202Z",
     "shell.execute_reply": "2021-03-09T00:51:32.021464Z"
    },
    "papermill": {
     "duration": 0.081831,
     "end_time": "2021-03-09T00:51:32.022365",
     "exception": false,
     "start_time": "2021-03-09T00:51:31.940534",
     "status": "completed"
    },
    "tags": []
   },
   "outputs": [],
   "source": [
    "submission.to_csv('submission.csv', index=False)"
   ]
  },
  {
   "cell_type": "code",
   "execution_count": 35,
   "metadata": {
    "execution": {
     "iopub.execute_input": "2021-03-09T00:51:32.116851Z",
     "iopub.status.busy": "2021-03-09T00:51:32.116147Z",
     "iopub.status.idle": "2021-03-09T00:51:32.119731Z",
     "shell.execute_reply": "2021-03-09T00:51:32.119135Z"
    },
    "papermill": {
     "duration": 0.054098,
     "end_time": "2021-03-09T00:51:32.119877",
     "exception": false,
     "start_time": "2021-03-09T00:51:32.065779",
     "status": "completed"
    },
    "tags": []
   },
   "outputs": [],
   "source": [
    "#train.ingredients.explode() #entire column of ingredients"
   ]
  },
  {
   "cell_type": "code",
   "execution_count": 36,
   "metadata": {
    "execution": {
     "iopub.execute_input": "2021-03-09T00:51:32.214119Z",
     "iopub.status.busy": "2021-03-09T00:51:32.213426Z",
     "iopub.status.idle": "2021-03-09T00:51:32.216451Z",
     "shell.execute_reply": "2021-03-09T00:51:32.217099Z"
    },
    "papermill": {
     "duration": 0.053401,
     "end_time": "2021-03-09T00:51:32.217278",
     "exception": false,
     "start_time": "2021-03-09T00:51:32.163877",
     "status": "completed"
    },
    "tags": []
   },
   "outputs": [],
   "source": [
    "#%%time #took a long time to run\n",
    "\n",
    "#rows = []\n",
    "#cols = []\n",
    "#vals = []\n",
    "\n",
    "#for i in range(len(train.ingredients)):\n",
    "  #  rows.append(i)\n",
    "  #  for j in range(len(train.columns)):\n",
    "     #   cols.append(j)\n",
    "      #  if train.columns[j] in train.ingredients[i]:\n",
    "          #  vals.append(1)"
   ]
  },
  {
   "cell_type": "code",
   "execution_count": 37,
   "metadata": {
    "execution": {
     "iopub.execute_input": "2021-03-09T00:51:32.311717Z",
     "iopub.status.busy": "2021-03-09T00:51:32.310993Z",
     "iopub.status.idle": "2021-03-09T00:51:32.314437Z",
     "shell.execute_reply": "2021-03-09T00:51:32.313884Z"
    },
    "papermill": {
     "duration": 0.052377,
     "end_time": "2021-03-09T00:51:32.314581",
     "exception": false,
     "start_time": "2021-03-09T00:51:32.262204",
     "status": "completed"
    },
    "tags": []
   },
   "outputs": [],
   "source": [
    "#train.head(1).ingredients.explode() #expanding row one list of ingredients"
   ]
  },
  {
   "cell_type": "code",
   "execution_count": 38,
   "metadata": {
    "execution": {
     "iopub.execute_input": "2021-03-09T00:51:32.407334Z",
     "iopub.status.busy": "2021-03-09T00:51:32.406463Z",
     "iopub.status.idle": "2021-03-09T00:51:32.409816Z",
     "shell.execute_reply": "2021-03-09T00:51:32.409232Z"
    },
    "papermill": {
     "duration": 0.051437,
     "end_time": "2021-03-09T00:51:32.409974",
     "exception": false,
     "start_time": "2021-03-09T00:51:32.358537",
     "status": "completed"
    },
    "tags": []
   },
   "outputs": [],
   "source": [
    "#ingredient_lookup = { uniq_ing[i]:i for i in range(len(uniq_ing))  }"
   ]
  },
  {
   "cell_type": "code",
   "execution_count": 39,
   "metadata": {
    "execution": {
     "iopub.execute_input": "2021-03-09T00:51:32.504254Z",
     "iopub.status.busy": "2021-03-09T00:51:32.503589Z",
     "iopub.status.idle": "2021-03-09T00:51:32.507267Z",
     "shell.execute_reply": "2021-03-09T00:51:32.506579Z"
    },
    "papermill": {
     "duration": 0.052842,
     "end_time": "2021-03-09T00:51:32.507419",
     "exception": false,
     "start_time": "2021-03-09T00:51:32.454577",
     "status": "completed"
    },
    "tags": []
   },
   "outputs": [],
   "source": [
    "#def check_salt(x):\n",
    "   # for s in x:\n",
    "       # if 'salt' in s:\n",
    "            #return(1)\n",
    "    #return(0)"
   ]
  },
  {
   "cell_type": "code",
   "execution_count": 40,
   "metadata": {
    "execution": {
     "iopub.execute_input": "2021-03-09T00:51:32.600427Z",
     "iopub.status.busy": "2021-03-09T00:51:32.599781Z",
     "iopub.status.idle": "2021-03-09T00:51:32.603500Z",
     "shell.execute_reply": "2021-03-09T00:51:32.602683Z"
    },
    "papermill": {
     "duration": 0.051905,
     "end_time": "2021-03-09T00:51:32.603656",
     "exception": false,
     "start_time": "2021-03-09T00:51:32.551751",
     "status": "completed"
    },
    "tags": []
   },
   "outputs": [],
   "source": [
    "#train['salt'] = train.apply(lambda x: check_salt(x[2]), axis=1)"
   ]
  },
  {
   "cell_type": "code",
   "execution_count": 41,
   "metadata": {
    "execution": {
     "iopub.execute_input": "2021-03-09T00:51:32.697572Z",
     "iopub.status.busy": "2021-03-09T00:51:32.696876Z",
     "iopub.status.idle": "2021-03-09T00:51:32.699533Z",
     "shell.execute_reply": "2021-03-09T00:51:32.700024Z"
    },
    "papermill": {
     "duration": 0.051815,
     "end_time": "2021-03-09T00:51:32.700212",
     "exception": false,
     "start_time": "2021-03-09T00:51:32.648397",
     "status": "completed"
    },
    "tags": []
   },
   "outputs": [],
   "source": [
    "#n= range(0,len(train.ingredients))\n",
    "\n",
    "#salt = []\n",
    "\n",
    "#for s in train.ingredients[n]:\n",
    "  #  if 'salt' in s:\n",
    "    #    salt.append(1)\n",
    "   # else:\n",
    "       # salt.append(0)"
   ]
  },
  {
   "cell_type": "code",
   "execution_count": 42,
   "metadata": {
    "execution": {
     "iopub.execute_input": "2021-03-09T00:51:32.793867Z",
     "iopub.status.busy": "2021-03-09T00:51:32.793146Z",
     "iopub.status.idle": "2021-03-09T00:51:32.796448Z",
     "shell.execute_reply": "2021-03-09T00:51:32.795905Z"
    },
    "papermill": {
     "duration": 0.05206,
     "end_time": "2021-03-09T00:51:32.796591",
     "exception": false,
     "start_time": "2021-03-09T00:51:32.744531",
     "status": "completed"
    },
    "tags": []
   },
   "outputs": [],
   "source": [
    "#train['Salt'] = salt"
   ]
  }
 ],
 "metadata": {
  "kernelspec": {
   "display_name": "Python 3",
   "language": "python",
   "name": "python3"
  },
  "language_info": {
   "codemirror_mode": {
    "name": "ipython",
    "version": 3
   },
   "file_extension": ".py",
   "mimetype": "text/x-python",
   "name": "python",
   "nbconvert_exporter": "python",
   "pygments_lexer": "ipython3",
   "version": "3.7.9"
  },
  "papermill": {
   "default_parameters": {},
   "duration": 615.398016,
   "end_time": "2021-03-09T00:51:35.075414",
   "environment_variables": {},
   "exception": null,
   "input_path": "__notebook__.ipynb",
   "output_path": "__notebook__.ipynb",
   "parameters": {},
   "start_time": "2021-03-09T00:41:19.677398",
   "version": "2.2.2"
  }
 },
 "nbformat": 4,
 "nbformat_minor": 4
}
